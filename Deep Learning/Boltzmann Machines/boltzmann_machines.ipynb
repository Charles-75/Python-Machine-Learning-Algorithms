{
 "cells": [
  {
   "cell_type": "markdown",
   "metadata": {},
   "source": [
    "# Boltzmann Machines  \n",
    "## Prepare Data"
   ]
  },
  {
   "cell_type": "code",
   "execution_count": 15,
   "metadata": {},
   "outputs": [],
   "source": [
    "import numpy as np\n",
    "import pandas as pd\n",
    "import torch\n",
    "import torch.nn as nn\n",
    "import torch.nn.parallel\n",
    "import torch.optim as optim\n",
    "import torch.utils.data\n",
    "from torch.autograd import Variable"
   ]
  },
  {
   "cell_type": "code",
   "execution_count": 16,
   "metadata": {},
   "outputs": [],
   "source": [
    "movies = pd.read_csv('ml-1m/movies.dat', sep='::', header=None, engine='python', encoding='latin-1')\n",
    "users = pd.read_csv('ml-1m/users.dat', sep='::', header=None, engine='python', encoding='latin-1')\n",
    "ratings = pd.read_csv('ml-1m/ratings.dat', sep='::', header=None, engine='python', encoding='latin-1')"
   ]
  },
  {
   "cell_type": "code",
   "execution_count": 17,
   "metadata": {},
   "outputs": [
    {
     "data": {
      "text/html": [
       "<div>\n",
       "<style scoped>\n",
       "    .dataframe tbody tr th:only-of-type {\n",
       "        vertical-align: middle;\n",
       "    }\n",
       "\n",
       "    .dataframe tbody tr th {\n",
       "        vertical-align: top;\n",
       "    }\n",
       "\n",
       "    .dataframe thead th {\n",
       "        text-align: right;\n",
       "    }\n",
       "</style>\n",
       "<table border=\"1\" class=\"dataframe\">\n",
       "  <thead>\n",
       "    <tr style=\"text-align: right;\">\n",
       "      <th></th>\n",
       "      <th>1</th>\n",
       "      <th>1.1</th>\n",
       "      <th>5</th>\n",
       "      <th>874965758</th>\n",
       "    </tr>\n",
       "  </thead>\n",
       "  <tbody>\n",
       "    <tr>\n",
       "      <th>0</th>\n",
       "      <td>1</td>\n",
       "      <td>2</td>\n",
       "      <td>3</td>\n",
       "      <td>876893171</td>\n",
       "    </tr>\n",
       "    <tr>\n",
       "      <th>1</th>\n",
       "      <td>1</td>\n",
       "      <td>3</td>\n",
       "      <td>4</td>\n",
       "      <td>878542960</td>\n",
       "    </tr>\n",
       "    <tr>\n",
       "      <th>2</th>\n",
       "      <td>1</td>\n",
       "      <td>4</td>\n",
       "      <td>3</td>\n",
       "      <td>876893119</td>\n",
       "    </tr>\n",
       "    <tr>\n",
       "      <th>3</th>\n",
       "      <td>1</td>\n",
       "      <td>5</td>\n",
       "      <td>3</td>\n",
       "      <td>889751712</td>\n",
       "    </tr>\n",
       "    <tr>\n",
       "      <th>4</th>\n",
       "      <td>1</td>\n",
       "      <td>7</td>\n",
       "      <td>4</td>\n",
       "      <td>875071561</td>\n",
       "    </tr>\n",
       "  </tbody>\n",
       "</table>\n",
       "</div>"
      ],
      "text/plain": [
       "   1  1.1  5  874965758\n",
       "0  1    2  3  876893171\n",
       "1  1    3  4  878542960\n",
       "2  1    4  3  876893119\n",
       "3  1    5  3  889751712\n",
       "4  1    7  4  875071561"
      ]
     },
     "execution_count": 17,
     "metadata": {},
     "output_type": "execute_result"
    }
   ],
   "source": [
    "training_set = pd.read_csv('ml-100k/u1.base', delimiter='\\t')\n",
    "test_set = pd.read_csv('ml-100k/u1.test', delimiter='\\t')\n",
    "training_set.head()"
   ]
  },
  {
   "cell_type": "code",
   "execution_count": 18,
   "metadata": {},
   "outputs": [],
   "source": [
    "training_set = np.array(training_set, dtype='int')\n",
    "test_set = np.array(test_set, dtype='int')"
   ]
  },
  {
   "cell_type": "code",
   "execution_count": 19,
   "metadata": {},
   "outputs": [
    {
     "name": "stdout",
     "output_type": "stream",
     "text": [
      "943\n",
      "1682\n"
     ]
    }
   ],
   "source": [
    "# get the number of users and movies\n",
    "nb_users = int(max(max(training_set[:,0]), max(test_set[:,0])))\n",
    "nb_movies = int(max(max(training_set[:,1]), max(test_set[:,1])))\n",
    "print(nb_users)\n",
    "print(nb_movies)"
   ]
  },
  {
   "cell_type": "code",
   "execution_count": 20,
   "metadata": {},
   "outputs": [],
   "source": [
    "# converting the data into a matrix with users in lines and movies in columns\n",
    "def convert(data):\n",
    "    new_data = []\n",
    "    for id_user in range(1, nb_users+1):\n",
    "        id_movies = data[:,1][data[:,0] == id_user]\n",
    "        id_ratings = data[:,2][data[:,0] == id_user]\n",
    "        ratings = np.zeros(nb_movies)\n",
    "        ratings[id_movies-1] = id_ratings\n",
    "        new_data.append(list(ratings))\n",
    "    return new_data\n",
    "            \n",
    "training_set = convert(training_set)\n",
    "test_set = convert(test_set)           "
   ]
  },
  {
   "cell_type": "code",
   "execution_count": 21,
   "metadata": {},
   "outputs": [],
   "source": [
    "# converting data into Torch tensors\n",
    "training_set = torch.FloatTensor(training_set)\n",
    "test_set = torch.FloatTensor(test_set)"
   ]
  },
  {
   "cell_type": "code",
   "execution_count": 22,
   "metadata": {},
   "outputs": [],
   "source": [
    "# converting ratings into binary ratings 1 (Liked) or 0 (Not Liked)\n",
    "training_set[training_set == 0] = -1  #this indexing filtering only works with pytorch tensors\n",
    "training_set[training_set < 3] = 0\n",
    "training_set[training_set >= 3] = 1\n",
    "test_set[test_set == 0] = -1\n",
    "test_set[test_set < 3] = 0\n",
    "test_set[test_set >= 3] = 1"
   ]
  },
  {
   "cell_type": "markdown",
   "metadata": {},
   "source": [
    "## Build the RBM (Restricted Boltzmann Machine)"
   ]
  },
  {
   "cell_type": "code",
   "execution_count": 53,
   "metadata": {},
   "outputs": [],
   "source": [
    "class RBM():\n",
    "    \n",
    "    def __init__(self, nv, nh):\n",
    "        self.W = torch.randn(nh, nv)\n",
    "        self.a = torch.randn(1, nh)\n",
    "        self.b = torch.randn(1, nv)\n",
    "        \n",
    "    def sample_h(self, x):\n",
    "        wx = torch.mm(x, self.W.t())\n",
    "        activation = wx + self.a.expand_as(wx)\n",
    "        p_h_given_v = torch.sigmoid(activation)\n",
    "        return p_h_given_v, torch.bernoulli(p_h_given_v)\n",
    "    \n",
    "    def sample_v(self, y):\n",
    "        wy = torch.mm(y, self.W)\n",
    "        activation = wy + self.b.expand_as(wy)\n",
    "        p_v_given_h = torch.sigmoid(activation)\n",
    "        return p_v_given_h, torch.bernoulli(p_v_given_h)\n",
    "    \n",
    "    def train(self, v0, vk, ph0, phk):\n",
    "        self.W += (torch.mm(v0.t(), ph0) - torch.mm(vk.t(), phk)).t()\n",
    "        self.b += torch.sum((v0 - vk), 0)\n",
    "        self.a += torch.sum((ph0 - phk), 0)"
   ]
  },
  {
   "cell_type": "code",
   "execution_count": 71,
   "metadata": {},
   "outputs": [],
   "source": [
    "nv = nb_movies\n",
    "nh = 100\n",
    "batch_size = 100\n",
    "\n",
    "rbm = RBM(nv, nh)"
   ]
  },
  {
   "cell_type": "markdown",
   "metadata": {},
   "source": [
    "## Training RBM"
   ]
  },
  {
   "cell_type": "code",
   "execution_count": 72,
   "metadata": {},
   "outputs": [
    {
     "name": "stdout",
     "output_type": "stream",
     "text": [
      "epoch: 1 loss: tensor(0.4658)\n",
      "epoch: 1 loss: tensor(0.5451)\n",
      "epoch: 1 loss: tensor(0.4845)\n",
      "epoch: 1 loss: tensor(0.4441)\n",
      "epoch: 1 loss: tensor(0.4133)\n",
      "epoch: 1 loss: tensor(0.4000)\n",
      "epoch: 1 loss: tensor(0.3801)\n",
      "epoch: 1 loss: tensor(0.3745)\n",
      "epoch: 1 loss: tensor(0.3621)\n",
      "epoch: 2 loss: tensor(0.2138)\n",
      "epoch: 2 loss: tensor(0.2200)\n",
      "epoch: 2 loss: tensor(0.2173)\n",
      "epoch: 2 loss: tensor(0.2186)\n",
      "epoch: 2 loss: tensor(0.2237)\n",
      "epoch: 2 loss: tensor(0.2335)\n",
      "epoch: 2 loss: tensor(0.2359)\n",
      "epoch: 2 loss: tensor(0.2398)\n",
      "epoch: 2 loss: tensor(0.2416)\n",
      "epoch: 3 loss: tensor(0.2488)\n",
      "epoch: 3 loss: tensor(0.2401)\n",
      "epoch: 3 loss: tensor(0.2397)\n",
      "epoch: 3 loss: tensor(0.2361)\n",
      "epoch: 3 loss: tensor(0.2379)\n",
      "epoch: 3 loss: tensor(0.2450)\n",
      "epoch: 3 loss: tensor(0.2461)\n",
      "epoch: 3 loss: tensor(0.2499)\n",
      "epoch: 3 loss: tensor(0.2508)\n",
      "epoch: 4 loss: tensor(0.2528)\n",
      "epoch: 4 loss: tensor(0.2445)\n",
      "epoch: 4 loss: tensor(0.2386)\n",
      "epoch: 4 loss: tensor(0.2338)\n",
      "epoch: 4 loss: tensor(0.2371)\n",
      "epoch: 4 loss: tensor(0.2443)\n",
      "epoch: 4 loss: tensor(0.2443)\n",
      "epoch: 4 loss: tensor(0.2466)\n",
      "epoch: 4 loss: tensor(0.2462)\n",
      "epoch: 5 loss: tensor(0.2478)\n",
      "epoch: 5 loss: tensor(0.2415)\n",
      "epoch: 5 loss: tensor(0.2386)\n",
      "epoch: 5 loss: tensor(0.2355)\n",
      "epoch: 5 loss: tensor(0.2376)\n",
      "epoch: 5 loss: tensor(0.2451)\n",
      "epoch: 5 loss: tensor(0.2433)\n",
      "epoch: 5 loss: tensor(0.2451)\n",
      "epoch: 5 loss: tensor(0.2470)\n",
      "epoch: 6 loss: tensor(0.2568)\n",
      "epoch: 6 loss: tensor(0.2497)\n",
      "epoch: 6 loss: tensor(0.2422)\n",
      "epoch: 6 loss: tensor(0.2368)\n",
      "epoch: 6 loss: tensor(0.2408)\n",
      "epoch: 6 loss: tensor(0.2446)\n",
      "epoch: 6 loss: tensor(0.2455)\n",
      "epoch: 6 loss: tensor(0.2479)\n",
      "epoch: 6 loss: tensor(0.2491)\n",
      "epoch: 7 loss: tensor(0.2434)\n",
      "epoch: 7 loss: tensor(0.2419)\n",
      "epoch: 7 loss: tensor(0.2382)\n",
      "epoch: 7 loss: tensor(0.2354)\n",
      "epoch: 7 loss: tensor(0.2391)\n",
      "epoch: 7 loss: tensor(0.2459)\n",
      "epoch: 7 loss: tensor(0.2454)\n",
      "epoch: 7 loss: tensor(0.2496)\n",
      "epoch: 7 loss: tensor(0.2490)\n",
      "epoch: 8 loss: tensor(0.2453)\n",
      "epoch: 8 loss: tensor(0.2405)\n",
      "epoch: 8 loss: tensor(0.2367)\n",
      "epoch: 8 loss: tensor(0.2325)\n",
      "epoch: 8 loss: tensor(0.2371)\n",
      "epoch: 8 loss: tensor(0.2420)\n",
      "epoch: 8 loss: tensor(0.2417)\n",
      "epoch: 8 loss: tensor(0.2445)\n",
      "epoch: 8 loss: tensor(0.2462)\n",
      "epoch: 9 loss: tensor(0.2500)\n",
      "epoch: 9 loss: tensor(0.2467)\n",
      "epoch: 9 loss: tensor(0.2405)\n",
      "epoch: 9 loss: tensor(0.2353)\n",
      "epoch: 9 loss: tensor(0.2393)\n",
      "epoch: 9 loss: tensor(0.2441)\n",
      "epoch: 9 loss: tensor(0.2422)\n",
      "epoch: 9 loss: tensor(0.2460)\n",
      "epoch: 9 loss: tensor(0.2468)\n",
      "epoch: 10 loss: tensor(0.2449)\n",
      "epoch: 10 loss: tensor(0.2448)\n",
      "epoch: 10 loss: tensor(0.2402)\n",
      "epoch: 10 loss: tensor(0.2336)\n",
      "epoch: 10 loss: tensor(0.2365)\n",
      "epoch: 10 loss: tensor(0.2439)\n",
      "epoch: 10 loss: tensor(0.2427)\n",
      "epoch: 10 loss: tensor(0.2449)\n",
      "epoch: 10 loss: tensor(0.2460)\n"
     ]
    }
   ],
   "source": [
    "nb_epoch = 10\n",
    "\n",
    "for epoch in range(1, nb_epoch + 1):\n",
    "    train_loss = 0\n",
    "    s = 0.\n",
    "    for id_user in range(0, nb_users - batch_size, batch_size):\n",
    "        vk = training_set[id_user:id_user+batch_size]\n",
    "        v0 = training_set[id_user:id_user+batch_size]\n",
    "        ph0, _ = rbm.sample_h(v0)\n",
    "        for k in range(10):\n",
    "            _, hk = rbm.sample_h(vk)\n",
    "            _, vk = rbm.sample_v(hk)\n",
    "            vk[v0 < 0] = v0[v0 < 0]\n",
    "        phk, _ = rbm.sample_h(vk)\n",
    "        rbm.train(v0, vk, ph0, phk)\n",
    "        train_loss += torch.mean(torch.abs(v0[v0 >= 0] - vk[v0 >= 0]))\n",
    "        s += 1. \n",
    "        print('epoch: '+str(epoch)+' loss: '+str(train_loss/s))"
   ]
  },
  {
   "cell_type": "markdown",
   "metadata": {},
   "source": [
    "## Testing RBM"
   ]
  },
  {
   "cell_type": "code",
   "execution_count": 75,
   "metadata": {},
   "outputs": [
    {
     "name": "stdout",
     "output_type": "stream",
     "text": [
      "test loss: tensor(0.2466)\n"
     ]
    }
   ],
   "source": [
    "test_loss = 0\n",
    "s = 0.\n",
    "for id_user in range(0, nb_users):\n",
    "    v = training_set[id_user:id_user+1]\n",
    "    vt = test_set[id_user:id_user+1]\n",
    "    if len(vt[vt>=0]) > 0:\n",
    "        _, h = rbm.sample_h(v)\n",
    "        _, v = rbm.sample_v(h)\n",
    "        test_loss += torch.mean(torch.abs(vt[vt>=0] - v[vt>=0]))\n",
    "        s += 1. \n",
    "print('test loss: '+str(test_loss/s))"
   ]
  }
 ],
 "metadata": {
  "kernelspec": {
   "display_name": "Python 3",
   "language": "python",
   "name": "python3"
  },
  "language_info": {
   "codemirror_mode": {
    "name": "ipython",
    "version": 3
   },
   "file_extension": ".py",
   "mimetype": "text/x-python",
   "name": "python",
   "nbconvert_exporter": "python",
   "pygments_lexer": "ipython3",
   "version": "3.7.4"
  }
 },
 "nbformat": 4,
 "nbformat_minor": 4
}
