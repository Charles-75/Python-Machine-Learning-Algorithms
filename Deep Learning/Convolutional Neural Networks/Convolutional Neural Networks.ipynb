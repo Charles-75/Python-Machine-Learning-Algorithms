{
 "cells": [
  {
   "cell_type": "markdown",
   "metadata": {},
   "source": [
    "# Convolutional Neural Networks"
   ]
  },
  {
   "cell_type": "code",
   "execution_count": 1,
   "metadata": {},
   "outputs": [
    {
     "name": "stderr",
     "output_type": "stream",
     "text": [
      "Using TensorFlow backend.\n"
     ]
    }
   ],
   "source": [
    "from keras.models import Sequential\n",
    "from keras.layers import Convolution2D\n",
    "from keras.layers import MaxPooling2D\n",
    "from keras.layers import Flatten\n",
    "from keras.layers import Dense #Fully connected layer"
   ]
  },
  {
   "cell_type": "markdown",
   "metadata": {},
   "source": [
    "## Building the CNN"
   ]
  },
  {
   "cell_type": "code",
   "execution_count": 2,
   "metadata": {},
   "outputs": [
    {
     "name": "stderr",
     "output_type": "stream",
     "text": [
      "WARNING: Logging before flag parsing goes to stderr.\n",
      "W0827 05:12:38.393780  4496 deprecation_wrapper.py:119] From C:\\Users\\Charl\\Mes logiciels\\Anaconda\\lib\\site-packages\\keras\\backend\\tensorflow_backend.py:74: The name tf.get_default_graph is deprecated. Please use tf.compat.v1.get_default_graph instead.\n",
      "\n",
      "W0827 05:12:38.422561  4496 deprecation_wrapper.py:119] From C:\\Users\\Charl\\Mes logiciels\\Anaconda\\lib\\site-packages\\keras\\backend\\tensorflow_backend.py:517: The name tf.placeholder is deprecated. Please use tf.compat.v1.placeholder instead.\n",
      "\n",
      "W0827 05:12:38.428514  4496 deprecation_wrapper.py:119] From C:\\Users\\Charl\\Mes logiciels\\Anaconda\\lib\\site-packages\\keras\\backend\\tensorflow_backend.py:4138: The name tf.random_uniform is deprecated. Please use tf.random.uniform instead.\n",
      "\n",
      "W0827 05:12:38.466552  4496 deprecation_wrapper.py:119] From C:\\Users\\Charl\\Mes logiciels\\Anaconda\\lib\\site-packages\\keras\\backend\\tensorflow_backend.py:3976: The name tf.nn.max_pool is deprecated. Please use tf.nn.max_pool2d instead.\n",
      "\n",
      "W0827 05:12:38.589089  4496 deprecation_wrapper.py:119] From C:\\Users\\Charl\\Mes logiciels\\Anaconda\\lib\\site-packages\\keras\\optimizers.py:790: The name tf.train.Optimizer is deprecated. Please use tf.compat.v1.train.Optimizer instead.\n",
      "\n",
      "W0827 05:12:38.645617  4496 deprecation_wrapper.py:119] From C:\\Users\\Charl\\Mes logiciels\\Anaconda\\lib\\site-packages\\keras\\backend\\tensorflow_backend.py:3376: The name tf.log is deprecated. Please use tf.math.log instead.\n",
      "\n",
      "W0827 05:12:38.659583  4496 deprecation.py:323] From C:\\Users\\Charl\\Mes logiciels\\Anaconda\\lib\\site-packages\\tensorflow\\python\\ops\\nn_impl.py:180: add_dispatch_support.<locals>.wrapper (from tensorflow.python.ops.array_ops) is deprecated and will be removed in a future version.\n",
      "Instructions for updating:\n",
      "Use tf.where in 2.0, which has the same broadcast rule as np.where\n"
     ]
    }
   ],
   "source": [
    "cnn = Sequential()\n",
    "cnn.add(Convolution2D(filters = 32, kernel_size = (3, 3), input_shape = (64, 64, 3), activation = 'relu')) \n",
    "cnn.add(MaxPooling2D(pool_size = (2,2)))\n",
    "cnn.add(Convolution2D(filters = 32, kernel_size = (3, 3), activation = 'relu')) \n",
    "cnn.add(MaxPooling2D(pool_size = (2,2)))\n",
    "cnn.add(Flatten())\n",
    "cnn.add(Dense(units = 128, activation = 'relu'))\n",
    "cnn.add(Dense(units = 1, activation = 'sigmoid'))\n",
    "cnn.compile(optimizer = 'adam', loss = 'binary_crossentropy', metrics = ['accuracy'])"
   ]
  },
  {
   "cell_type": "markdown",
   "metadata": {},
   "source": [
    "## Fitting the CNN to our images"
   ]
  },
  {
   "cell_type": "code",
   "execution_count": 3,
   "metadata": {},
   "outputs": [
    {
     "name": "stdout",
     "output_type": "stream",
     "text": [
      "Found 8000 images belonging to 2 classes.\n",
      "Found 2000 images belonging to 2 classes.\n"
     ]
    },
    {
     "name": "stderr",
     "output_type": "stream",
     "text": [
      "W0827 05:13:43.540570  4496 deprecation_wrapper.py:119] From C:\\Users\\Charl\\Mes logiciels\\Anaconda\\lib\\site-packages\\keras\\backend\\tensorflow_backend.py:986: The name tf.assign_add is deprecated. Please use tf.compat.v1.assign_add instead.\n",
      "\n"
     ]
    },
    {
     "name": "stdout",
     "output_type": "stream",
     "text": [
      "Epoch 1/20\n",
      "250/250 [==============================] - 153s 612ms/step - loss: 0.6816 - acc: 0.5631 - val_loss: 0.6391 - val_acc: 0.6168\n",
      "Epoch 2/20\n",
      "250/250 [==============================] - 97s 390ms/step - loss: 0.6255 - acc: 0.6475 - val_loss: 0.5639 - val_acc: 0.7077\n",
      "Epoch 3/20\n",
      "250/250 [==============================] - 44s 177ms/step - loss: 0.5807 - acc: 0.6964 - val_loss: 0.5879 - val_acc: 0.6976\n",
      "Epoch 4/20\n",
      "250/250 [==============================] - 48s 194ms/step - loss: 0.5454 - acc: 0.7210 - val_loss: 0.5523 - val_acc: 0.7262\n",
      "Epoch 5/20\n",
      "250/250 [==============================] - 72s 290ms/step - loss: 0.5158 - acc: 0.7460 - val_loss: 0.5231 - val_acc: 0.7524\n",
      "Epoch 6/20\n",
      "250/250 [==============================] - 74s 295ms/step - loss: 0.4953 - acc: 0.7628 - val_loss: 0.5158 - val_acc: 0.7530\n",
      "Epoch 7/20\n",
      "250/250 [==============================] - 73s 292ms/step - loss: 0.4791 - acc: 0.7676 - val_loss: 0.4913 - val_acc: 0.7565\n",
      "Epoch 8/20\n",
      "250/250 [==============================] - 68s 271ms/step - loss: 0.4626 - acc: 0.7785 - val_loss: 0.4733 - val_acc: 0.7812\n",
      "Epoch 9/20\n",
      "250/250 [==============================] - 57s 230ms/step - loss: 0.4459 - acc: 0.7896 - val_loss: 0.4689 - val_acc: 0.7683\n",
      "Epoch 10/20\n",
      "250/250 [==============================] - 54s 218ms/step - loss: 0.4343 - acc: 0.7954 - val_loss: 0.4609 - val_acc: 0.7883\n",
      "Epoch 11/20\n",
      "250/250 [==============================] - 61s 243ms/step - loss: 0.4236 - acc: 0.8025 - val_loss: 0.4615 - val_acc: 0.7851\n",
      "Epoch 12/20\n",
      "250/250 [==============================] - 56s 224ms/step - loss: 0.4070 - acc: 0.8116 - val_loss: 0.4427 - val_acc: 0.8005\n",
      "Epoch 13/20\n",
      "250/250 [==============================] - 55s 220ms/step - loss: 0.3903 - acc: 0.8214 - val_loss: 0.4666 - val_acc: 0.7865\n",
      "Epoch 14/20\n",
      "250/250 [==============================] - 54s 217ms/step - loss: 0.3882 - acc: 0.8270 - val_loss: 0.5337 - val_acc: 0.7530\n",
      "Epoch 15/20\n",
      "250/250 [==============================] - 60s 240ms/step - loss: 0.3628 - acc: 0.8374 - val_loss: 0.4763 - val_acc: 0.8004\n",
      "Epoch 16/20\n",
      "250/250 [==============================] - 57s 230ms/step - loss: 0.3550 - acc: 0.8429 - val_loss: 0.4470 - val_acc: 0.8079\n",
      "Epoch 17/20\n",
      "250/250 [==============================] - 44s 178ms/step - loss: 0.3393 - acc: 0.8462 - val_loss: 0.4762 - val_acc: 0.7979\n",
      "Epoch 18/20\n",
      "250/250 [==============================] - 42s 169ms/step - loss: 0.3271 - acc: 0.8558 - val_loss: 0.4587 - val_acc: 0.8013\n",
      "Epoch 19/20\n",
      "250/250 [==============================] - 42s 168ms/step - loss: 0.3117 - acc: 0.8632 - val_loss: 0.4677 - val_acc: 0.8029\n",
      "Epoch 20/20\n",
      "250/250 [==============================] - 43s 171ms/step - loss: 0.2972 - acc: 0.8729 - val_loss: 0.5037 - val_acc: 0.7879\n"
     ]
    },
    {
     "data": {
      "text/plain": [
       "<keras.callbacks.History at 0x1dfe5bd74e0>"
      ]
     },
     "execution_count": 3,
     "metadata": {},
     "output_type": "execute_result"
    }
   ],
   "source": [
    "from keras.preprocessing.image import ImageDataGenerator  #tools for data augmentation\n",
    "\n",
    "train_data = ImageDataGenerator(rescale = 1./255, shear_range = 0.2, zoom_range = 0.2, horizontal_flip = True)\n",
    "test_data = ImageDataGenerator(rescale = 1./255)\n",
    "\n",
    "training_set = train_data.flow_from_directory('dataset/training_set', \n",
    "                                             target_size = (64, 64),\n",
    "                                             batch_size = 32,\n",
    "                                             class_mode = 'binary')\n",
    "test_set = test_data.flow_from_directory('dataset/test_set', \n",
    "                                             target_size = (64, 64),\n",
    "                                             batch_size = 32,\n",
    "                                             class_mode = 'binary')\n",
    "\n",
    "cnn.fit_generator(training_set, steps_per_epoch = 250, epochs = 20, validation_data = test_set, validation_steps = 200)"
   ]
  },
  {
   "cell_type": "markdown",
   "metadata": {},
   "source": [
    "## Making new predictions"
   ]
  },
  {
   "cell_type": "code",
   "execution_count": null,
   "metadata": {},
   "outputs": [],
   "source": [
    "import numpy as np\n",
    "from keras.preprocessing import image\n",
    "test_image = image.load_img('dataset/your_image.jpg', target_size = (64, 64))\n",
    "test_image = image.img_to_array(test_image)\n",
    "test_image = np.expand_dims(test_image, axis = 0)\n",
    "result = cnn.predict(test_image)\n",
    "#training_set.class_indices\n",
    "if result[0][0] == 1:\n",
    "    prediction = 'dog'\n",
    "else:\n",
    "    prediction = 'cat'\n",
    "print('This image is a : ', prediction)"
   ]
  }
 ],
 "metadata": {
  "kernelspec": {
   "display_name": "Python 3",
   "language": "python",
   "name": "python3"
  },
  "language_info": {
   "codemirror_mode": {
    "name": "ipython",
    "version": 3
   },
   "file_extension": ".py",
   "mimetype": "text/x-python",
   "name": "python",
   "nbconvert_exporter": "python",
   "pygments_lexer": "ipython3",
   "version": "3.7.1"
  }
 },
 "nbformat": 4,
 "nbformat_minor": 2
}
